{
 "cells": [
  {
   "cell_type": "markdown",
   "metadata": {},
   "source": [
    "Student Name: Vijaykumar Maraviya\n",
    "\n",
    "Student Number: 1006040320"
   ]
  },
  {
   "cell_type": "code",
   "execution_count": null,
   "metadata": {
    "id": "1XDvssQd64Pf"
   },
   "outputs": [],
   "source": [
    "# not required on windows\n",
    "# !apt-get install -y xvfb python-opengl > /dev/null 2>&1"
   ]
  },
  {
   "cell_type": "code",
   "execution_count": null,
   "metadata": {
    "id": "F5esgX013vPe"
   },
   "outputs": [],
   "source": [
    "# not required on windows\n",
    "# !pip install gym pyvirtualdisplay > /dev/null 2>&1"
   ]
  },
  {
   "cell_type": "code",
   "execution_count": 1,
   "metadata": {
    "id": "Qbi2xaFo31Sj"
   },
   "outputs": [],
   "source": [
    "import gym\n",
    "import numpy as np\n",
    "import matplotlib.pyplot as plt\n",
    "from IPython import display as ipythondisplay"
   ]
  },
  {
   "cell_type": "code",
   "execution_count": null,
   "metadata": {
    "colab": {
     "base_uri": "https://localhost:8080/"
    },
    "id": "FGqXqJxoAsHG",
    "outputId": "d1e20369-c556-4343-b368-3600f1df8085"
   },
   "outputs": [],
   "source": [
    "# not required on windows\n",
    "# from pyvirtualdisplay import Display\n",
    "# display = Display(visible=0, size=(400, 300))\n",
    "# display.start()"
   ]
  },
  {
   "cell_type": "code",
   "execution_count": 2,
   "metadata": {
    "colab": {
     "base_uri": "https://localhost:8080/",
     "height": 286
    },
    "id": "6L4YayzR4FYj",
    "outputId": "6e3733d6-266b-4c3a-d216-a4d04fc3aedb"
   },
   "outputs": [
    {
     "name": "stdout",
     "output_type": "stream",
     "text": [
      "Iterations that were run: 26\n"
     ]
    },
    {
     "data": {
      "image/png": "[encoded data removed]",
      "text/plain": [
       "<Figure size 432x288 with 1 Axes>"
      ]
     },
     "metadata": {
      "needs_background": "light"
     },
     "output_type": "display_data"
    }
   ],
   "source": [
    "env = gym.make(\"CartPole-v0\")\n",
    "env.reset()\n",
    "prev_screen = env.render(mode='rgb_array')\n",
    "plt.imshow(prev_screen)\n",
    "\n",
    "for i in range(50000):\n",
    "    action = env.action_space.sample()\n",
    "    print(\"step i\",i,\"action=\",action)\n",
    "    obs, reward, done, info = env.step(action)\n",
    "    print(\"obs=\",obs,\"reward=\",reward,\"done=\",done,\"info=\",info)\n",
    "    screen = env.render(mode='rgb_array')\n",
    "\n",
    "    plt.imshow(screen)\n",
    "    ipythondisplay.clear_output(wait=True)\n",
    "    ipythondisplay.display(plt.gcf())\n",
    "\n",
    "    if done:\n",
    "        break\n",
    "    \n",
    "ipythondisplay.clear_output(wait=True)\n",
    "env.close()\n",
    "print(\"Iterations that were run:\",i)"
   ]
  },
  {
   "cell_type": "markdown",
   "metadata": {},
   "source": [
    "### Exercise 1:\n",
    "\n",
    "__Can you design a dynamic programming based policy for the agent as in assignment 1? If so, design it and demonstrate that it solves the cart pole problem.__\n",
    "\n",
    "The dynamic programming approach requires the environment model; that is, it requires the information of the state transition probabilities. For the cart-pole environment in the openAI gym, we do not have the model.\n",
    "\n",
    "Additionally, the observation space is continuous. Also, cart velocity and pole velocity at the tip can take any value, at least theoretically. Even if we discretize the state space, we will end up with a large number of states (assuming that our value table contains all the states) that the policy evaluation may take too long to be practically useful.  "
   ]
  },
  {
   "cell_type": "markdown",
   "metadata": {},
   "source": [
    "### Exercise 2:\n",
    "\n",
    "__Can you design a Monte Carlo based policy for the agent? What ingredients do you require? Explain the design flow, and execute it. Show that it works, or indicate why you can't proceed.__\n",
    "\n",
    "We can design a Monte Carlo based policy for an RL agent to balance a cart-pole. However, a few caveats have been mentioned in lecture four and will be covered in the next lecture. Once it is covered, we should be able to use the Monte Carlo approach to create an optimal policy for the cart-pole environment. \n",
    "\n",
    "I have provided arguments for why the approach covered in the lecture so far is not sufficient, as follows:\n",
    "\n",
    "Monte Carlo based approach does not require a model of the environment. Instead, it uses the action-value function Q to create a greedy policy during policy improvement. For a given policy, the Q is estimated during policy evaluation by calculating the average reward over an infinite number of episodes. The episodes are generated by interacting with the environment, real or simulated. The returns observed after the first visit to a state 's' and taking action 'a' over infinite episodes are averaged, which in limit converges to the true value of (s,a) pair. The requirement of experiencing infinite episodes is relaxed by truncating the policy evaluation after one episode. Yet, the algorithm still converges to the optimal policy. However, It is not guaranteed that all the (s,a) pairs will be visited during the episodes, especially with a deterministic policy. To deal with limitation in visiting all (s,a) pairs, two approaches are proposed:\n",
    "\n",
    "1) Exploring starts: the episodes start in a state-action pair (s,a), and that every pair (s,a) has a non-zero probability of being selected as the start.\n",
    "\n",
    "2) Stochastic policy: consider only stochastic policies with a non-zero probability of selecting all actions in each state. \n",
    "\n",
    "If either approach is used, it is guaranteed that all state-action pairs will be visited an infinite number of times in the limit of an infinite number of episodes.\n",
    "\n",
    "The exploring start approach may not be relied upon, specifically when learning from a real environment. The cart-pole problem is an example where the 'exploring starts' approach is not useful because the pendulum starts in an upright position for each episode. Hence, to obtain policy using the Monte Carlo method, we will need to use the stochastic policy approach, which will be covered in the next lecture as mentioned in the 4th lecture. "
   ]
  }
 ],
 "metadata": {
  "accelerator": "GPU",
  "colab": {
   "collapsed_sections": [],
   "name": "GymRendering.ipynb",
   "provenance": []
  },
  "kernelspec": {
   "display_name": "MIE1624_env",
   "language": "python",
   "name": "mie1624_env"
  },
  "language_info": {
   "codemirror_mode": {
    "name": "ipython",
    "version": 3
   },
   "file_extension": ".py",
   "mimetype": "text/x-python",
   "name": "python",
   "nbconvert_exporter": "python",
   "pygments_lexer": "ipython3",
   "version": "3.8.3"
  }
 },
 "nbformat": 4,
 "nbformat_minor": 1
}
